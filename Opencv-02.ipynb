{
 "cells": [
  {
   "cell_type": "markdown",
   "id": "cc4d3fe1-4f1d-4c6c-af18-aa78fa6a94c8",
   "metadata": {},
   "source": [
    "# Draw, Converting color, Crop and Paste\n",
    "\n",
    "<div style=\"text-align: center;\">\n",
    "  <a href=\"https://colab.research.google.com/github/MinooSdpr/opencv-python-tutorial/blob/main/Opencv-02.ipynb\">\n",
    "    <img src=\"https://colab.research.google.com/assets/colab-badge.svg\" alt=\"Open In Colab\" />\n",
    "  </a>\n",
    "  &nbsp;\n",
    "  <a href=\"https://github.com/MinooSdpr/opencv-python-tutorial/blob/main/Opencv-02.ipynb\">\n",
    "    <img src=\"https://img.shields.io/badge/Open%20in-GitHub-24292e?logo=github&logoColor=white\" alt=\"Open In GitHub\" />\n",
    "  </a>\n",
    "</div>\n",
    "\n",
    "----\n",
    "\n",
    "## Draw on Image\n",
    "\n",
    "| Parameter   | Description for line            | Description for rectangle               |\n",
    "| ----------- | ------------------------------- | --------------------------------------- |\n",
    "| `img`       | Image on which to draw          | Image on which to draw                  |\n",
    "| `pt1`       | Starting point `(x1, y1)`       | Top-left corner `(x1, y1)`              |\n",
    "| `pt2`       | Ending point `(x2, y2)`         | Bottom-right corner `(x2, y2)`          |\n",
    "| `color`     | Line color in BGR format        | Rectangle border color in BGR format    |\n",
    "| `thickness` | Thickness of the line in pixels | Thickness of rectangle border in pixels |\n"
   ]
  },
  {
   "cell_type": "code",
   "execution_count": 1,
   "id": "ea8770fa-7d75-4fae-a84e-31593f96246c",
   "metadata": {},
   "outputs": [],
   "source": [
    "import numpy as np\n",
    "import cv2 as cv\n",
    "\n",
    "img = cv.imread('flower-sample.jpg')\n",
    "\n",
    "cv.line(img, (5,5),(200,150),(11,11,200),5)\n",
    "cv.rectangle(img, (5,5),(200,150),(11,11,200),10)\n",
    "cv.imshow('flower',img)\n",
    "cv.waitKey(0)\n",
    "cv.destroyAllWindows()"
   ]
  },
  {
   "cell_type": "markdown",
   "id": "7ed40edd-924b-4da3-9bef-2382c59451e8",
   "metadata": {},
   "source": [
    "| Parameter   | Value           | Description                                                |\n",
    "| ----------- | --------------- | ---------------------------------------------------------- |\n",
    "| `img`       | `img`           | Image on which to draw                                     |\n",
    "| `center`    | `(200, 150)`    | Center coordinates of the circle `(x, y)`                  |\n",
    "| `radius`    | `50`            | Radius of the circle in pixels                             |\n",
    "| `color`     | `(0, 150, 200)` | Circle color in BGR format (Blue=0, Green=150, Red=200)    |\n",
    "| `thickness` | `-1`            | Thickness of circle boundary; `-1` means **filled circle** |\n"
   ]
  },
  {
   "cell_type": "code",
   "execution_count": 2,
   "id": "87408fea-1689-4dbd-90b4-d72a1b2efa7f",
   "metadata": {},
   "outputs": [],
   "source": [
    "cv.circle(img, (200,150),50,(0,150,200),-1)\n",
    "cv.imshow('flower',img)\n",
    "cv.waitKey(0)\n",
    "cv.destroyAllWindows()"
   ]
  },
  {
   "cell_type": "markdown",
   "id": "83877801-0d9f-40b8-80d3-4654fe51c9f7",
   "metadata": {},
   "source": [
    "## polylines\n",
    "\n",
    "This function **draws one or more polylines** on an image. A polyline is a connected series of line segments.\n",
    "\n",
    "---\n",
    "\n",
    "| Parameter   | Value         | Description                                                                                                               |\n",
    "| ----------- | ------------- | ------------------------------------------------------------------------------------------------------------------------- |\n",
    "| `img`       | `img`         | Image on which to draw                                                                                                    |\n",
    "| `pts`       | `[points]`    | List of points defining the polyline. `points` is a NumPy array of shape `(N, 2)` where each tuple is `(x, y)` coordinate |\n",
    "| `isClosed`  | `True`        | Boolean indicating whether the polyline is closed (connects last point back to first) or open                             |\n",
    "| `color`     | `(100, 5, 5)` | Color of the polyline in BGR format (mostly dark blue/red)                                                                |\n",
    "| `thickness` | `2`           | Thickness of the polyline lines in pixels                                                                                 |\n"
   ]
  },
  {
   "cell_type": "code",
   "execution_count": 3,
   "id": "b35fec96-0baa-40fb-b623-e6e653535c98",
   "metadata": {},
   "outputs": [],
   "source": [
    "img = cv.imread('flower-sample.jpg')\n",
    "\n",
    "points = np.array([(10,33),(12,29),(23,78),(98,23),(255,60),(230,200)],np.int32)\n",
    "\n",
    "cv.polylines(img, [points], True, (100,5,5), thickness=2)\n",
    "cv.imshow('flower',img)\n",
    "cv.waitKey(0)\n",
    "cv.destroyAllWindows()"
   ]
  },
  {
   "cell_type": "markdown",
   "id": "bbdb602f-104a-46c0-88c3-358908fb5816",
   "metadata": {},
   "source": [
    "### Put text\n",
    "\n",
    "\n",
    "| Parameter   | Value                     | Description                                                             |\n",
    "| ----------- | ------------------------- | ----------------------------------------------------------------------- |\n",
    "| `img`       | `img`                     | Image on which to draw the text                                         |\n",
    "| `text`      | `'hi to everyone'`        | The actual text string to be drawn on the image                         |\n",
    "| `org`       | `(500, 500)`              | Bottom-left corner of the text string in the image (x, y)               |\n",
    "| `fontFace`  | `cv.FONT_HERSHEY_COMPLEX` | Font type (Hershey Complex – a serif-style font)                        |\n",
    "| `fontScale` | `2`                       | Font scale factor that multiplies the base font size                    |\n",
    "| `color`     | `(255, 255, 255)`         | Text color in **BGR** format — this is **white**                        |\n",
    "| `thickness` | `6`                       | Thickness of the text strokes in pixels                                 |\n",
    "| `lineType`  | `cv.LINE_4`               | Type of line used to draw the text: 4-connected line for better quality |\n",
    "\n",
    "#### `lineType`\n",
    "\n",
    "\n",
    "| `lineType`   | Description                | Connectivity / Effect                                           | Usage Notes                    |\n",
    "| ------------ | -------------------------- | --------------------------------------------------------------- | ------------------------------ |\n",
    "| `cv.LINE_4`  | 4-connected line           | Connects pixels horizontally and vertically only (no diagonals) | Faster, more \"blocky\" lines    |\n",
    "| `cv.LINE_8`  | 8-connected line (default) | Connects pixels horizontally, vertically, and diagonally        | Smoother lines, default choice |\n",
    "| `cv.LINE_AA` | Anti-aliased line          | Smooth edges with blending for better visual quality            | Best quality, slower rendering |\n",
    "\n",
    "---\n",
    "\n",
    "#### `fontFace`\n",
    "\n",
    "\n",
    "| `fontFace`                       | Description                    | Style                     |\n",
    "| -------------------------------- | ------------------------------ | ------------------------- |\n",
    "| `cv.FONT_HERSHEY_SIMPLEX`        | Simple, sans-serif font        | Normal thickness, simple  |\n",
    "| `cv.FONT_HERSHEY_PLAIN`          | Small, plain font              | Small size, minimal style |\n",
    "| `cv.FONT_HERSHEY_DUPLEX`         | Normal font with thicker lines | Slightly thicker strokes  |\n",
    "| `cv.FONT_HERSHEY_COMPLEX`        | Complex font with serif        | Serif style, more elegant |\n",
    "| `cv.FONT_HERSHEY_TRIPLEX`        | Thicker version of COMPLEX     | Thicker serif style       |\n",
    "| `cv.FONT_HERSHEY_COMPLEX_SMALL`  | Smaller version of COMPLEX     | Compact serif style       |\n",
    "| `cv.FONT_HERSHEY_SCRIPT_SIMPLEX` | Handwriting-style font         | Script / cursive style    |\n",
    "| `cv.FONT_HERSHEY_SCRIPT_COMPLEX` | More complex cursive script    | Fancy handwriting style   |\n",
    "\n",
    "\n"
   ]
  },
  {
   "cell_type": "code",
   "execution_count": 4,
   "id": "a9addb02-de0a-4c68-ba34-4844d6aebc05",
   "metadata": {},
   "outputs": [],
   "source": [
    "font = cv.FONT_HERSHEY_COMPLEX\n",
    "cv.putText(img, 'hi to everyone', (500, 500), font, 2, (255, 255, 255), 6, cv.LINE_4)\n",
    "\n",
    "cv.imshow('flower',img)\n",
    "cv.waitKey(0)\n",
    "cv.destroyAllWindows()\n"
   ]
  },
  {
   "cell_type": "markdown",
   "id": "455a5515-6817-4263-ad0a-f87e932421f6",
   "metadata": {},
   "source": [
    "### `cv.cvtColor()`\n",
    "\n",
    "| Conversion Code      | Description                                    | Typical Use Case                                                        |\n",
    "| -------------------- | ---------------------------------------------- | ----------------------------------------------------------------------- |\n",
    "| `cv.COLOR_BGR2GRAY`  | Convert BGR color image to grayscale           | Simplifying image to intensity only                                     |\n",
    "| `cv.COLOR_BGR2RGB`   | Convert BGR to RGB color space                 | For displaying images correctly in RGB-based systems (e.g., matplotlib) |\n",
    "| `cv.COLOR_RGB2BGR`   | Convert RGB to BGR                             | Switch color channel order                                              |\n",
    "| `cv.COLOR_BGR2HSV`   | Convert BGR to HSV (Hue, Saturation, Value)    | Color filtering, segmentation                                           |\n",
    "| `cv.COLOR_HSV2BGR`   | Convert HSV back to BGR                        | Post-processing after HSV operations                                    |\n",
    "| `cv.COLOR_BGR2LAB`   | Convert BGR to LAB color space                 | Color analysis, image enhancement                                       |\n",
    "| `cv.COLOR_BGR2YCrCb` | Convert BGR to YCrCb color space               | Skin detection, compression                                             |\n",
    "| `cv.COLOR_GRAY2BGR`  | Convert grayscale to BGR (3-channel grayscale) | To convert single channel to 3-channel image                            |\n"
   ]
  },
  {
   "cell_type": "code",
   "execution_count": 5,
   "id": "285e58c3-2a03-457f-95c1-5725b682ccc0",
   "metadata": {},
   "outputs": [],
   "source": [
    "img = cv.imread('flower-sample.jpg')\n",
    "imgray = cv.cvtColor(img,cv.COLOR_BGR2GRAY)\n",
    "\n",
    "cv.imshow('flower',img)\n",
    "cv.imshow('gray',imgray)\n",
    "cv.waitKey(0)\n",
    "cv.destroyAllWindows()"
   ]
  },
  {
   "cell_type": "code",
   "execution_count": 6,
   "id": "07af71eb-6b73-4634-be2c-d15884da4a2a",
   "metadata": {},
   "outputs": [
    {
     "name": "stdout",
     "output_type": "stream",
     "text": [
      "(933, 700)\n"
     ]
    }
   ],
   "source": [
    "print(imgray.shape)"
   ]
  },
  {
   "cell_type": "markdown",
   "id": "93cfcaad-abc4-4c6d-ae33-6e7e4ddf8dba",
   "metadata": {},
   "source": [
    "**cropped_img = img[y1:y2, x1:x2]**"
   ]
  },
  {
   "cell_type": "code",
   "execution_count": 7,
   "id": "db887557-a194-417e-9a21-0d2073662691",
   "metadata": {},
   "outputs": [],
   "source": [
    "crp = imgray[40:500,:]# crop height\n",
    "cv.imshow('crop image',crp)\n",
    "cv.waitKey(0)\n",
    "cv.destroyAllWindows()"
   ]
  },
  {
   "cell_type": "code",
   "execution_count": 8,
   "id": "d199c417-e772-4731-b3bb-57979d4c51ee",
   "metadata": {},
   "outputs": [],
   "source": [
    "crp2 = imgray[:,40:500]# crop width\n",
    "\n",
    "cv.imshow('crop image',crp2)\n",
    "cv.waitKey(0)\n",
    "cv.destroyAllWindows()"
   ]
  },
  {
   "cell_type": "code",
   "execution_count": 9,
   "id": "70572d78-2b5b-4bbc-9c46-f6c712a4b7f2",
   "metadata": {},
   "outputs": [
    {
     "name": "stdout",
     "output_type": "stream",
     "text": [
      "[166  90   0]\n"
     ]
    }
   ],
   "source": [
    "print(img[550,100])"
   ]
  },
  {
   "cell_type": "code",
   "execution_count": 10,
   "id": "4767b98b-d473-4e08-9bbc-b3a05b7aa985",
   "metadata": {},
   "outputs": [],
   "source": [
    "img[550:,:] = [166,90,0]\n",
    "cv.imshow('change color image',img)\n",
    "cv.waitKey(0)\n",
    "cv.destroyAllWindows()"
   ]
  },
  {
   "cell_type": "code",
   "execution_count": 11,
   "id": "fc611ee8-b977-4fb4-b07e-fcd70457ff95",
   "metadata": {},
   "outputs": [
    {
     "ename": "ValueError",
     "evalue": "could not broadcast input array from shape (3,) into shape (383,700)",
     "output_type": "error",
     "traceback": [
      "\u001b[1;31m---------------------------------------------------------------------------\u001b[0m",
      "\u001b[1;31mValueError\u001b[0m                                Traceback (most recent call last)",
      "Cell \u001b[1;32mIn[11], line 1\u001b[0m\n\u001b[1;32m----> 1\u001b[0m imgray[\u001b[38;5;241m550\u001b[39m:,:] \u001b[38;5;241m=\u001b[39m [\u001b[38;5;241m166\u001b[39m,\u001b[38;5;241m90\u001b[39m,\u001b[38;5;241m0\u001b[39m]\n\u001b[0;32m      2\u001b[0m cv\u001b[38;5;241m.\u001b[39mimshow(\u001b[38;5;124m'\u001b[39m\u001b[38;5;124mchange gray image\u001b[39m\u001b[38;5;124m'\u001b[39m,imgray)\n\u001b[0;32m      3\u001b[0m cv\u001b[38;5;241m.\u001b[39mwaitKey(\u001b[38;5;241m0\u001b[39m)\n",
      "\u001b[1;31mValueError\u001b[0m: could not broadcast input array from shape (3,) into shape (383,700)"
     ]
    }
   ],
   "source": [
    "imgray[550:,:] = [166,90,0]\n",
    "cv.imshow('change gray image',imgray)\n",
    "cv.waitKey(0)\n",
    "cv.destroyAllWindows()"
   ]
  },
  {
   "cell_type": "markdown",
   "id": "70953fc8-2bc8-44b1-95e7-a6c891105f78",
   "metadata": {},
   "source": [
    "### BUT why?"
   ]
  },
  {
   "cell_type": "code",
   "execution_count": 12,
   "id": "2a7b4402-a06a-4dd2-b9e3-0c418af4f3f0",
   "metadata": {},
   "outputs": [
    {
     "name": "stdout",
     "output_type": "stream",
     "text": [
      "72\n"
     ]
    }
   ],
   "source": [
    "print(imgray[550,100])"
   ]
  },
  {
   "cell_type": "code",
   "execution_count": 13,
   "id": "3b276294-f2fc-4cdd-a523-d38f431e226f",
   "metadata": {},
   "outputs": [],
   "source": [
    "imgray[550:,:] = 72\n",
    "cv.imshow('change gray image',imgray)\n",
    "cv.waitKey(0)\n",
    "cv.destroyAllWindows()"
   ]
  },
  {
   "cell_type": "code",
   "execution_count": 14,
   "id": "80d9329a-7fde-4c26-85fe-1c23227200e5",
   "metadata": {},
   "outputs": [],
   "source": [
    "sample = cv.imread('sample.jpeg')\n",
    "part = sample[182:603,129:683]\n",
    "cv.imshow('copy paste image',sample)\n",
    "cv.imshow('part', part)\n",
    "cv.waitKey(0)\n",
    "cv.destroyAllWindows()"
   ]
  },
  {
   "cell_type": "code",
   "execution_count": 15,
   "id": "6100212e-2b80-47c6-a03d-e89ccd2ab4cb",
   "metadata": {},
   "outputs": [],
   "source": [
    "sample2 = sample.copy()\n",
    "sample2[709:1130,713:1267] = part\n",
    "cv.imshow('original image',sample)\n",
    "cv.imshow('changed image', sample2)\n",
    "cv.waitKey(0)\n",
    "cv.destroyAllWindows()"
   ]
  },
  {
   "cell_type": "code",
   "execution_count": 17,
   "id": "34e5c630-c1a4-489e-8bf6-d9bbcee2a56e",
   "metadata": {},
   "outputs": [],
   "source": [
    "sample = cv.resize(sample, (700,700))\n",
    "blue = sample[:,:,0]\n",
    "green = sample[:,:,1]\n",
    "red = sample[:,:,2]\n",
    "cv.imshow('original image',sample)\n",
    "cv.imshow('blue', blue)\n",
    "cv.imshow('green', green)\n",
    "cv.imshow('red', red)\n",
    "\n",
    "cv.waitKey(0)\n",
    "cv.destroyAllWindows()"
   ]
  },
  {
   "cell_type": "markdown",
   "id": "ae05e935-9efe-4e80-bfc3-c5dc0730d18a",
   "metadata": {},
   "source": [
    "<div style=\"float:right;\">\n",
    "  <a href=\"https://github.com/MinooSdpr/opencv-python-tutorial/blob/main/Opencv-03.ipynb\"\n",
    "     style=\"\n",
    "       display:inline-block;\n",
    "       padding:8px 20px;\n",
    "       background-color:#414f6f;\n",
    "       color:white;\n",
    "       border-radius:12px;\n",
    "       text-decoration:none;\n",
    "       font-family:sans-serif;\n",
    "       transition:background-color 0.3s ease;\n",
    "     \">\n",
    "    ▶️ Next\n",
    "  </a>\n",
    "</div>"
   ]
  }
 ],
 "metadata": {
  "kernelspec": {
   "display_name": "Python [conda env:base] *",
   "language": "python",
   "name": "conda-base-py"
  },
  "language_info": {
   "codemirror_mode": {
    "name": "ipython",
    "version": 3
   },
   "file_extension": ".py",
   "mimetype": "text/x-python",
   "name": "python",
   "nbconvert_exporter": "python",
   "pygments_lexer": "ipython3",
   "version": "3.12.7"
  }
 },
 "nbformat": 4,
 "nbformat_minor": 5
}
